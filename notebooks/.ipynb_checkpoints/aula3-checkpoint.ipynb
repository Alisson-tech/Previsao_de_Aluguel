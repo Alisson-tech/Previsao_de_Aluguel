{
 "cells": [
  {
   "cell_type": "markdown",
   "metadata": {
    "id": "grqSrtTPTb_Y"
   },
   "source": [
    "# Análise Exploratória de Dados\n",
    "\n",
    "* Como os valores de alugueis estão distribuidos?\n",
    "* Existe relação entre o número de quartos e o valor do aluguel?\n",
    "* O que podemos observar sobre a possibilidade de aceitar animais?\n",
    "* Qual a relação entre cidades e os números de quartos?\n",
    "* Imóvel mobiliado impacta no preço do aluguel?\n",
    "* Como estão distribuidos os imóveis por número de banheiros?\n",
    "* Existe alguma relação entre o número de vagas de garagem e o valor do aluguel?\n",
    "* E o seguro incêndio?\n",
    "* Existe qualquer impacto do valor do iptu em relação ao valor imóvel?"
   ]
  },
  {
   "cell_type": "markdown",
   "metadata": {
    "id": "Zh2gpr78Tb_Y"
   },
   "source": [
    "Importando as bibliotecas necessárias"
   ]
  },
  {
   "cell_type": "code",
   "execution_count": 26,
   "metadata": {
    "_cell_guid": "b1076dfc-b9ad-4769-8c92-a6c4dae69d19",
    "_uuid": "8f2839f25d086af736a60e9eeb907d3b93b6e0e5",
    "id": "RRKB6k5FTb_Z"
   },
   "outputs": [
    {
     "ename": "ModuleNotFoundError",
     "evalue": "No module named 'plotly'",
     "output_type": "error",
     "traceback": [
      "\u001b[0;31m---------------------------------------------------------------------------\u001b[0m",
      "\u001b[0;31mModuleNotFoundError\u001b[0m                       Traceback (most recent call last)",
      "\u001b[0;32m<ipython-input-26-5c1506b2eb72>\u001b[0m in \u001b[0;36m<module>\u001b[0;34m()\u001b[0m\n\u001b[1;32m      7\u001b[0m \u001b[0;32mimport\u001b[0m \u001b[0mmatplotlib\u001b[0m\u001b[0;34m.\u001b[0m\u001b[0mpyplot\u001b[0m \u001b[0;32mas\u001b[0m \u001b[0mplt\u001b[0m\u001b[0;34m\u001b[0m\u001b[0m\n\u001b[1;32m      8\u001b[0m \u001b[0;32mimport\u001b[0m \u001b[0msweetviz\u001b[0m \u001b[0;32mas\u001b[0m \u001b[0msv\u001b[0m\u001b[0;34m\u001b[0m\u001b[0m\n\u001b[0;32m----> 9\u001b[0;31m \u001b[0;32mimport\u001b[0m \u001b[0mplotly\u001b[0m\u001b[0;34m.\u001b[0m\u001b[0mexpress\u001b[0m \u001b[0;32mas\u001b[0m \u001b[0mpx\u001b[0m\u001b[0;34m\u001b[0m\u001b[0m\n\u001b[0m\u001b[1;32m     10\u001b[0m \u001b[0;34m\u001b[0m\u001b[0m\n\u001b[1;32m     11\u001b[0m \u001b[0;31m#banco de dados\u001b[0m\u001b[0;34m\u001b[0m\u001b[0;34m\u001b[0m\u001b[0m\n",
      "\u001b[0;31mModuleNotFoundError\u001b[0m: No module named 'plotly'"
     ]
    }
   ],
   "source": [
    "#manipulação dados\n",
    "import numpy as np\n",
    "import pandas as pd\n",
    "\n",
    "#gráficos\n",
    "import seaborn as sns\n",
    "import matplotlib.pyplot as plt\n",
    "import sweetviz as sv\n",
    "import plotly.express as px\n",
    "\n",
    "#banco de dados\n",
    "import sqlite3\n",
    "\n",
    "# Machine learning\n",
    "from sklearn.model_selection import train_test_split\n",
    "from sklearn.metrics import mean_absolute_error, mean_squared_error, r2_score\n",
    "from sklearn.dummy import DummyRegressor\n",
    "from sklearn.linear_model import LinearRegression\n",
    "from sklearn.tree import DecisionTreeRegressor\n",
    "from sklearn.ensemble import RandomForestRegressor\n",
    "from sklearn.neighbors import KNeighborsRegressor\n",
    "\n",
    "# testar diferentes modelos de IA\n",
    "from pycaret.regression import *"
   ]
  },
  {
   "cell_type": "markdown",
   "metadata": {
    "id": "1qcNCLTtUTng"
   },
   "source": [
    "### Carregando a Base de Dados\n",
    "\n",
    "Os dados foram transformados usando o airflow, basicamente o script copiava a base de dados para outro banco chamado 'imoveis_dw.db', com os dados transformado para realizar nossas análises."
   ]
  },
  {
   "cell_type": "code",
   "execution_count": null,
   "metadata": {},
   "outputs": [],
   "source": [
    "connect_dw_imoveis = sqlite3.connect(\"../data/imoveis_dw.db\")"
   ]
  },
  {
   "cell_type": "code",
   "execution_count": null,
   "metadata": {},
   "outputs": [],
   "source": [
    "#usando o metodo do pandas para ler dados sql\n",
    "data = pd.read_sql_query(r\"\"\"\n",
    "    SELECT * FROM IMOVEIS\n",
    "    \"\"\", \n",
    "    connect_dw_imoveis\n",
    "    )"
   ]
  },
  {
   "cell_type": "code",
   "execution_count": null,
   "metadata": {},
   "outputs": [],
   "source": [
    "data.head()"
   ]
  },
  {
   "cell_type": "markdown",
   "metadata": {
    "id": "U316T-Z1Umz1"
   },
   "source": [
    "Exibindo as informações da base de dados"
   ]
  },
  {
   "cell_type": "code",
   "execution_count": null,
   "metadata": {
    "colab": {
     "base_uri": "https://localhost:8080/"
    },
    "id": "YKimrj2MTb_b",
    "outputId": "d37d92fe-0873-4e44-c360-edaf7278ed39"
   },
   "outputs": [],
   "source": [
    "data.info()"
   ]
  },
  {
   "cell_type": "markdown",
   "metadata": {},
   "source": [
    "### Análise Estatística Básica.\n",
    "\n",
    "- valores muito anômalos referente ao valor do aluguel, area e numero de andares."
   ]
  },
  {
   "cell_type": "code",
   "execution_count": null,
   "metadata": {},
   "outputs": [],
   "source": [
    "data.describe()"
   ]
  },
  {
   "cell_type": "markdown",
   "metadata": {
    "id": "7tY0lylkjH5x"
   },
   "source": [
    "### Verificando a correlação dos atributos\n",
    "\n",
    "#### itens com maior Correlação positiva referente ao valor do aluguel\n",
    "\n",
    "1. seguro incendio\n",
    "2. num_banheiro\n",
    "3. Garagem\n",
    "4. num_quartos"
   ]
  },
  {
   "cell_type": "code",
   "execution_count": null,
   "metadata": {
    "colab": {
     "base_uri": "https://localhost:8080/",
     "height": 587
    },
    "id": "Z1iCH36vTb_d",
    "outputId": "af11c528-b5ff-441a-b995-8a93dc344713"
   },
   "outputs": [],
   "source": [
    "plt.figure(figsize =(8,8))\n",
    "cor = data.corr()\n",
    "sns.heatmap(cor,annot =True)"
   ]
  },
  {
   "cell_type": "markdown",
   "metadata": {
    "id": "coBre6PkjoWp"
   },
   "source": [
    "Visualizando as correlações em pares"
   ]
  },
  {
   "cell_type": "code",
   "execution_count": null,
   "metadata": {
    "colab": {
     "base_uri": "https://localhost:8080/",
     "height": 1000
    },
    "id": "q69iGOsmTb_e",
    "outputId": "ff8ea529-4cf3-4206-d826-267e4be96148"
   },
   "outputs": [],
   "source": [
    "sns.pairplot(data)"
   ]
  },
  {
   "cell_type": "markdown",
   "metadata": {},
   "source": [
    "'!' permite que você utilize comandos de nivel do sistema operacional"
   ]
  },
  {
   "cell_type": "markdown",
   "metadata": {},
   "source": [
    "### Gerar Gráficos sweetviz\n",
    "\n",
    "no exemplo abaixo gera um gráfico mostrando a relação do valor do aluguel com os outros atriutos."
   ]
  },
  {
   "cell_type": "code",
   "execution_count": null,
   "metadata": {
    "colab": {
     "base_uri": "https://localhost:8080/",
     "height": 66,
     "referenced_widgets": [
      "5c550d9afe9d4d5f9585b625e48d9998",
      "7f5c6079e76345f9913f202d1a2a354b",
      "15944e904034483397383211be1fe08d",
      "0862787cf2b849ca9957d47f51a081a8",
      "82083441a2a54b95ad25334769d7cfae",
      "a64d65aed70044eebc2904417228419f",
      "8b76469f6f2848fead97ff45135c3bec",
      "f6863ef18248425f9bb2a52a36277d3a",
      "22ee2bb768d44dedb0e6ef9aec9f106b",
      "d067259dbbc94e7ba1daaca8f3215a4c",
      "b6fcfa9e17974e6996a75faab2c31a43"
     ]
    },
    "id": "0R7CCcSu13z1",
    "outputId": "a396721a-bb1a-4d4a-9495-fcceb6558cf7",
    "scrolled": true
   },
   "outputs": [],
   "source": [
    "my_report = sv.analyze(data,\"valor_aluguel\")\n",
    "#abrir no navegador\n",
    "my_report.show_html()"
   ]
  },
  {
   "cell_type": "code",
   "execution_count": null,
   "metadata": {},
   "outputs": [],
   "source": [
    "# abrir no nooebook\n",
    "my_report.show_notebook()"
   ]
  },
  {
   "cell_type": "markdown",
   "metadata": {},
   "source": [
    "# Como os valores de aluguel estão distribuidos?"
   ]
  },
  {
   "cell_type": "markdown",
   "metadata": {},
   "source": [
    "### Intalando o plotly para visualizações dinamicas"
   ]
  },
  {
   "cell_type": "markdown",
   "metadata": {},
   "source": [
    "O gráfico abaixo exibe como está distribuido o valor do aluguel de acordo com os imóveis "
   ]
  },
  {
   "cell_type": "code",
   "execution_count": null,
   "metadata": {},
   "outputs": [],
   "source": [
    "fig = px.histogram(data, x=\"valor_aluguel\", marginal=\"rug\", hover_data=data.columns)\n",
    "fig.show()"
   ]
  },
  {
   "cell_type": "markdown",
   "metadata": {},
   "source": [
    "\n",
    "o gráfico a baixo mostra a dispersão dos dados referente ao valor do aluguel."
   ]
  },
  {
   "cell_type": "code",
   "execution_count": null,
   "metadata": {},
   "outputs": [],
   "source": [
    "fig = px.box(data, x=\"valor_aluguel\", points=\"all\")\n",
    "fig.show()"
   ]
  },
  {
   "cell_type": "markdown",
   "metadata": {
    "id": "V3wR3JrvTb_e"
   },
   "source": [
    "Alguns insigths identificados...<br/>\n",
    "1. Dados com uma assimetria positiva. <br/>\n",
    "2. Possíveis outliers acima de 15.000,00. <br/>\n",
    "3. A maioria dos valores estão na faixa de R$ 499 à 10.000,00."
   ]
  },
  {
   "cell_type": "code",
   "execution_count": null,
   "metadata": {
    "id": "_BSq0X-STb_f",
    "outputId": "257d460f-ad83-49f6-8338-a1b70085c248"
   },
   "outputs": [],
   "source": [
    "plt.figure(figsize =(12,5))\n",
    "sns.rugplot(\n",
    "            data['valor_aluguel'],\n",
    "            height=0.6,    \n",
    "            )"
   ]
  },
  {
   "cell_type": "markdown",
   "metadata": {
    "id": "NHVvHYwsTb_g"
   },
   "source": [
    "# Existe qualquer relação entre o número de quartos e o valor do aluguel?"
   ]
  },
  {
   "cell_type": "code",
   "execution_count": null,
   "metadata": {
    "id": "ncMpVxJXTb_g",
    "outputId": "19e26a4d-dde7-4f63-ed5c-51f2633888f2",
    "scrolled": false
   },
   "outputs": [],
   "source": [
    "sns.jointplot(y= data['valor_aluguel'],x = data['num_quartos'],kind ='reg')"
   ]
  },
  {
   "cell_type": "markdown",
   "metadata": {},
   "source": [
    "* Podemos observar que o número de quartos influencia no valor do aluguel.\n",
    "* Os maiores imoveis mais caros são com números de quartos 3 e 4.\n",
    "* Como uma regra geral temos uma relação positiva entre o número de imóveis e o valor do aluguel."
   ]
  },
  {
   "cell_type": "markdown",
   "metadata": {
    "id": "Kd28kL6sTb_h"
   },
   "source": [
    "# O que podemos observar sobre a possibilidade de aceitar animais?"
   ]
  },
  {
   "cell_type": "code",
   "execution_count": null,
   "metadata": {
    "id": "rryL_Tp4Tb_h",
    "outputId": "82b24a67-858e-4dcf-b7c8-2496de4c98f4"
   },
   "outputs": [],
   "source": [
    "sns.countplot(x = data['aceita_animais']\n",
    "              ,hue = data['cidade'])"
   ]
  },
  {
   "cell_type": "code",
   "execution_count": null,
   "metadata": {},
   "outputs": [],
   "source": [
    "data.head()"
   ]
  },
  {
   "cell_type": "markdown",
   "metadata": {
    "id": "jOR3Jo7kTb_h"
   },
   "source": [
    "* Podemos observar que o número de imóveis que aceitam animais é bem maior do que os que não aceitam."
   ]
  },
  {
   "cell_type": "code",
   "execution_count": null,
   "metadata": {},
   "outputs": [],
   "source": [
    "data[\"animal_categorical\"] =  data['aceita_animais'].map({1:\"aceita\",0:\"nao_aceita\"})"
   ]
  },
  {
   "cell_type": "code",
   "execution_count": null,
   "metadata": {
    "id": "yHL2QIGmTb_h",
    "outputId": "44fc874f-90e4-44ef-c06e-68d6c1efc134"
   },
   "outputs": [],
   "source": [
    "sns.boxplot( x = data['valor_aluguel']\n",
    "            ,y = data['animal_categorical'])"
   ]
  },
  {
   "cell_type": "markdown",
   "metadata": {},
   "source": [
    "* A maioria dos imóveis que aceitam animais, custam mais caros do que os que não aceitam."
   ]
  },
  {
   "cell_type": "markdown",
   "metadata": {
    "id": "wbjOxZkGTb_h"
   },
   "source": [
    "# Cidades e os números de quartos"
   ]
  },
  {
   "cell_type": "code",
   "execution_count": null,
   "metadata": {
    "id": "Xahc2i8MTb_i",
    "outputId": "5161feb2-4148-4fd6-972b-7420a1665325"
   },
   "outputs": [],
   "source": [
    "pd.DataFrame(data['cidade'].unique())"
   ]
  },
  {
   "cell_type": "code",
   "execution_count": null,
   "metadata": {
    "id": "ZK_5RvblTb_i",
    "outputId": "66d43daf-f7b2-46df-d32c-ab6ad613e218"
   },
   "outputs": [],
   "source": [
    "sns.catplot(x='cidade', y='num_quartos', data =data)"
   ]
  },
  {
   "cell_type": "markdown",
   "metadata": {
    "id": "deNgBMUcTb_i"
   },
   "source": [
    "* Rio de Janeiro é a cidade com o maior número de quartos."
   ]
  },
  {
   "cell_type": "markdown",
   "metadata": {
    "id": "FfA0apVoTb_j"
   },
   "source": [
    "# Como estão distribuidos os imóveis por número de banheiros?"
   ]
  },
  {
   "cell_type": "code",
   "execution_count": null,
   "metadata": {
    "id": "0z2jSmGDTb_j",
    "outputId": "0d4263b7-0f61-4c42-bcec-7803e6eb0827"
   },
   "outputs": [],
   "source": [
    "plt.subplot(2,1,1)\n",
    "sns.countplot(x = data['num_banheiros'])"
   ]
  },
  {
   "cell_type": "markdown",
   "metadata": {
    "id": "ymfZzg67Tb_j"
   },
   "source": [
    "* A maioria dos imóveis contém de 1 a 2 banheiros.\n",
    "* Existem poucos imóveis com 5 ou mais banheiros."
   ]
  },
  {
   "cell_type": "code",
   "execution_count": null,
   "metadata": {
    "id": "OP2iaad6Tb_j",
    "outputId": "3f044d79-30ee-4f3d-f2dc-fac90ecf62a6"
   },
   "outputs": [],
   "source": [
    "sns.catplot(x ='num_banheiros', y ='valor_aluguel', data = data)"
   ]
  },
  {
   "cell_type": "markdown",
   "metadata": {},
   "source": [
    "* O maior aluguel é de um imóvel que tem 7 banheiros.\n",
    "* Existem alugueis caros com imóveis com 1 a 4 banheiros."
   ]
  },
  {
   "cell_type": "markdown",
   "metadata": {
    "id": "CzKhkliBTb_k"
   },
   "source": [
    "# A mobília nos imoveis impactam no valor do aluguel?"
   ]
  },
  {
   "cell_type": "code",
   "execution_count": null,
   "metadata": {},
   "outputs": [],
   "source": [
    "data[\"mobilia_categorical\"] =  data['mobilia'].map({1:\"mobiliado\",0:\"nao_mobiliado\"})"
   ]
  },
  {
   "cell_type": "code",
   "execution_count": null,
   "metadata": {
    "id": "yHL2QIGmTb_h",
    "outputId": "44fc874f-90e4-44ef-c06e-68d6c1efc134"
   },
   "outputs": [],
   "source": [
    "sns.boxplot( x = data['valor_aluguel']\n",
    "            ,y = data['mobilia_categorical'])"
   ]
  },
  {
   "cell_type": "markdown",
   "metadata": {
    "id": "j6Q16poFTb_k"
   },
   "source": [
    "* De todos os imóveis com valores maiores de aluguel, bem acima da média, são todos não mobiliados.\n",
    "* O que justifica uma fraca correlação entre os atributos."
   ]
  },
  {
   "cell_type": "markdown",
   "metadata": {
    "id": "PDWbbFcITb_k"
   },
   "source": [
    "# Existe alguma relação entre o número de vagas de garagem e o valor do aluguel?"
   ]
  },
  {
   "cell_type": "code",
   "execution_count": null,
   "metadata": {
    "id": "1Ot9LicNTb_k",
    "outputId": "ff78407d-ff41-4ce7-bfb7-903b68bb1d0d"
   },
   "outputs": [],
   "source": [
    "plt.figure(figsize =(6,4))\n",
    "ax = sns.regplot(x = data['garagem'],y = data['valor_aluguel'])"
   ]
  },
  {
   "cell_type": "code",
   "execution_count": null,
   "metadata": {},
   "outputs": [],
   "source": [
    "plt.figure(figsize =(6,4))\n",
    "sns.displot(x = data['garagem'], kde = True)"
   ]
  },
  {
   "cell_type": "markdown",
   "metadata": {},
   "source": [
    "Existe uma pequena correlação entre o número de vagas de garagem e o valor do aluguel."
   ]
  },
  {
   "cell_type": "markdown",
   "metadata": {
    "id": "MErIusgaTb_l"
   },
   "source": [
    "# Vamos analisar o seguro incêndio"
   ]
  },
  {
   "cell_type": "code",
   "execution_count": null,
   "metadata": {
    "id": "_LUUAETBTb_l",
    "outputId": "662d7bcf-611b-426e-f7eb-44953e8bd11a"
   },
   "outputs": [],
   "source": [
    "sns.violinplot(x ='cidade', y ='valor_seguro_incendio', data = data,hue ='cidade')"
   ]
  },
  {
   "cell_type": "markdown",
   "metadata": {
    "id": "sV490TnbTb_l"
   },
   "source": [
    "* São Paulo é a cidade com os maiores valores de seguro incêndio, seguido por Porto Alegre, Belo Horizonte, Rio de Janeiro e Campinas."
   ]
  },
  {
   "cell_type": "code",
   "execution_count": null,
   "metadata": {
    "id": "xTNQMzHLTb_l",
    "outputId": "e50c10bb-e78d-428a-b006-a11a1231f5f8"
   },
   "outputs": [],
   "source": [
    "ax = sns.regplot(x = data['valor_seguro_incendio'],y = data['valor_aluguel'])"
   ]
  },
  {
   "cell_type": "markdown",
   "metadata": {
    "id": "2HJW6ER0Tb_m"
   },
   "source": [
    "* Existe uma alta correlação entre o valor do seguro incendio e o valor do aluguel. \n",
    "* Quanto maior o valor do seguro incendio maior o valor do aluguel."
   ]
  },
  {
   "cell_type": "markdown",
   "metadata": {
    "id": "SfZ_6mLCTb_m"
   },
   "source": [
    "# Existe qualquer relação entre o valor do iptu e o valor do aluguel?"
   ]
  },
  {
   "cell_type": "code",
   "execution_count": null,
   "metadata": {
    "id": "nd4iLs9pTb_m",
    "outputId": "faf3fe89-0fb1-4c13-dcd8-2aa76401cdd9"
   },
   "outputs": [],
   "source": [
    "sns.jointplot(y= data['valor_aluguel'],x = data['valor_iptu'],kind ='reg')"
   ]
  },
  {
   "cell_type": "markdown",
   "metadata": {
    "id": "IayjiI4RTb_m"
   },
   "source": [
    "* Não temos nenhum impacto"
   ]
  },
  {
   "cell_type": "markdown",
   "metadata": {},
   "source": [
    "**Pré-processando os dados**\n",
    "\n",
    "Poucos algoritmos trabalham com dados categóricos, por essas variáveis serem importantes para o nosso modelo precisamos transformar dados categóricos em dados numéricos para poder usar os algoritmos de Machine Learning\n",
    "\n",
    "Podemos usar duas técnicas bem eficientes que são:\n",
    "\n",
    "- **Label Encoder**\n",
    "\n",
    "Basicamente ele substitui a informação por um valor numérico, o grande problema é que os modelos de IA interpretam esses dados em uma ordem (0<1<2) dando um peso maior para o dado categorico representado por um valor maior.\n",
    "\n",
    "exemplo:\n",
    "\n",
    "são paulo -> 1\n",
    "Rio de Janeiro -> 2\n",
    "\n",
    "Rio de janeiro tem um peso maior que são paulo.\n",
    "\n",
    "\n",
    "- **One Hot Enconder**\n",
    "\n",
    "este processo resolve o problema anterio. porém aumenta o tamanho da base de dados, o que o torna difícil de gerenciar para base de dados com grandes quantidades de dados categoricos distintos.\n",
    "\n",
    "Este método transforma os dados categoricos em colunas e atribuir o valor 1 ou 0 (verdadeiro ou falso). \n",
    "\n",
    "exemplo:\n",
    "\n",
    "é gerado uma colunas chamada São Paulo e todos os dados que correspondem a cidade de São Paulo será atribuído 1, os que não corresponde com São Paulo é atribuído 0.\n",
    "\n",
    "- Links + info\n",
    "\n",
    "https://towardsdatascience.com/categorical-encoding-using-label-encoding-and-one-hot-encoder-911ef77fb5bd"
   ]
  },
  {
   "cell_type": "markdown",
   "metadata": {},
   "source": [
    "Verificando a quantidade de valores únicos na coluna estado"
   ]
  },
  {
   "cell_type": "code",
   "execution_count": null,
   "metadata": {},
   "outputs": [],
   "source": [
    "data.estado.unique()"
   ]
  },
  {
   "cell_type": "markdown",
   "metadata": {},
   "source": [
    "Verificando a quantidade de valores únicos na coluna cidade"
   ]
  },
  {
   "cell_type": "code",
   "execution_count": null,
   "metadata": {},
   "outputs": [],
   "source": [
    "data.cidade.unique()"
   ]
  },
  {
   "cell_type": "markdown",
   "metadata": {},
   "source": [
    "**Aplicando o One Hot Encoder**"
   ]
  },
  {
   "cell_type": "markdown",
   "metadata": {},
   "source": [
    "Subistituindo o dataframe data pelo dataframe após aplicado o get_dummies()"
   ]
  },
  {
   "cell_type": "code",
   "execution_count": null,
   "metadata": {},
   "outputs": [],
   "source": [
    "# get_dummies transforma os dados da coluna aplicando o one hot enconder\n",
    "data = pd.get_dummies(data, columns=[\"estado\",\"cidade\"], prefix=[\"estado_\",\"cidade_\"])"
   ]
  },
  {
   "cell_type": "code",
   "execution_count": null,
   "metadata": {},
   "outputs": [],
   "source": [
    "data.head()"
   ]
  },
  {
   "cell_type": "code",
   "execution_count": null,
   "metadata": {},
   "outputs": [],
   "source": [
    "data.columns"
   ]
  },
  {
   "cell_type": "markdown",
   "metadata": {},
   "source": [
    "# Detecção de Outliers, Machine Learning"
   ]
  },
  {
   "cell_type": "markdown",
   "metadata": {},
   "source": [
    "Excluindo os atributos categoricos"
   ]
  },
  {
   "cell_type": "code",
   "execution_count": null,
   "metadata": {},
   "outputs": [],
   "source": [
    "data.drop([\"animal_categorical\",\"mobilia_categorical\"], axis=1, inplace=True)"
   ]
  },
  {
   "cell_type": "markdown",
   "metadata": {},
   "source": [
    "### Outlier Detection\n",
    "\n",
    "Consiste em detectar valores possivelmente anomálos na nossa base de dados.\n",
    "\n",
    "Utilizaremos do intervalo interquartil para detectar outliers.\n",
    "\n",
    "#### Intervalo interquartil (FIQ)\n",
    "\n",
    "Consiste na quantidade de dispersão no meio.\n",
    "\n",
    "FiQ = Q3 - Q1\n",
    "\n",
    "#### Detectando outlier com FIQ\n",
    "\n",
    "- outlier baixo:\n",
    "\n",
    "Q1 - (1.5 x FIQ)\n",
    "\n",
    "- outlier Alto:\n",
    "\n",
    "Q3 + (1.5 x FiQ)\n",
    "\n",
    "- Links:\n",
    "\n",
    "https://pt.khanacademy.org/math/statistics-probability/summarizing-quantitative-data/interquartile-range-iqr/a/interquartile-range-review\n",
    "\n",
    "https://pt.khanacademy.org/math/statistics-probability/summarizing-quantitative-data/box-whisker-plots/a/identifying-outliers-iqr-rule"
   ]
  },
  {
   "cell_type": "markdown",
   "metadata": {},
   "source": [
    "Verificando os registros anomalos no atributo valor_aluguel"
   ]
  },
  {
   "cell_type": "code",
   "execution_count": null,
   "metadata": {
    "scrolled": false
   },
   "outputs": [],
   "source": [
    "plt.figure(figsize=(8, 4))\n",
    "sns.boxplot(x=data['valor_aluguel'])\n",
    "plt.show()"
   ]
  },
  {
   "cell_type": "code",
   "execution_count": null,
   "metadata": {},
   "outputs": [],
   "source": [
    "data.describe()"
   ]
  },
  {
   "cell_type": "markdown",
   "metadata": {},
   "source": [
    "Quantil 1 = 25% dos dados."
   ]
  },
  {
   "cell_type": "code",
   "execution_count": null,
   "metadata": {},
   "outputs": [],
   "source": [
    "Q1 = data[\"valor_aluguel\"].quantile(.25)"
   ]
  },
  {
   "cell_type": "markdown",
   "metadata": {},
   "source": [
    "Quantil 3 = 75% dos dados."
   ]
  },
  {
   "cell_type": "code",
   "execution_count": null,
   "metadata": {},
   "outputs": [],
   "source": [
    "Q3 = data[\"valor_aluguel\"].quantile(.75)"
   ]
  },
  {
   "cell_type": "code",
   "execution_count": null,
   "metadata": {
    "scrolled": true
   },
   "outputs": [],
   "source": [
    "Q1,Q3"
   ]
  },
  {
   "cell_type": "markdown",
   "metadata": {},
   "source": [
    "Faixa de Intervalo Interqualítico"
   ]
  },
  {
   "cell_type": "code",
   "execution_count": null,
   "metadata": {},
   "outputs": [],
   "source": [
    "IQR = Q3 - Q1"
   ]
  },
  {
   "cell_type": "code",
   "execution_count": null,
   "metadata": {
    "scrolled": false
   },
   "outputs": [],
   "source": [
    "IQR"
   ]
  },
  {
   "cell_type": "markdown",
   "metadata": {},
   "source": [
    "Calculando os limites"
   ]
  },
  {
   "cell_type": "code",
   "execution_count": null,
   "metadata": {},
   "outputs": [],
   "source": [
    "lower = Q1 - 1.5 * IQR\n",
    "upper = Q3 + 1.5 * IQR"
   ]
  },
  {
   "cell_type": "code",
   "execution_count": null,
   "metadata": {},
   "outputs": [],
   "source": [
    "lower,upper"
   ]
  },
  {
   "cell_type": "markdown",
   "metadata": {},
   "source": [
    "Definindo a seleção dos registros"
   ]
  },
  {
   "cell_type": "code",
   "execution_count": null,
   "metadata": {},
   "outputs": [],
   "source": [
    "data_clean = data[data['valor_aluguel'] >= lower] "
   ]
  },
  {
   "cell_type": "code",
   "execution_count": null,
   "metadata": {},
   "outputs": [],
   "source": [
    "data_clean = data_clean[data_clean['valor_aluguel'] <= upper]"
   ]
  },
  {
   "cell_type": "code",
   "execution_count": null,
   "metadata": {},
   "outputs": [],
   "source": [
    "data_clean.describe()"
   ]
  },
  {
   "cell_type": "code",
   "execution_count": null,
   "metadata": {
    "scrolled": false
   },
   "outputs": [],
   "source": [
    "plt.figure(figsize=(12, 4))\n",
    "\n",
    "plt.subplot(1, 2, 1)\n",
    "plt.title('Com Outliers')\n",
    "sns.boxplot(x= data['valor_aluguel'])\n",
    "\n",
    "plt.subplot(1, 2, 2)\n",
    "plt.title('Sem Outliers')\n",
    "sns.boxplot(x= data_clean['valor_aluguel'])\n",
    "\n",
    "plt.tight_layout(pad=1.0)\n",
    "plt.show()"
   ]
  },
  {
   "cell_type": "code",
   "execution_count": null,
   "metadata": {
    "scrolled": true
   },
   "outputs": [],
   "source": [
    "data_clean.describe()"
   ]
  },
  {
   "cell_type": "markdown",
   "metadata": {},
   "source": [
    "Unificando os dataframes"
   ]
  },
  {
   "cell_type": "code",
   "execution_count": null,
   "metadata": {},
   "outputs": [],
   "source": [
    "data = data_clean"
   ]
  },
  {
   "cell_type": "markdown",
   "metadata": {},
   "source": [
    "# Machine Learning"
   ]
  },
  {
   "cell_type": "markdown",
   "metadata": {},
   "source": [
    "Separando os dados em features e classes."
   ]
  },
  {
   "cell_type": "code",
   "execution_count": null,
   "metadata": {},
   "outputs": [],
   "source": [
    "y = data['valor_aluguel']\n",
    "x = data.drop(['valor_aluguel'],axis =1)"
   ]
  },
  {
   "cell_type": "markdown",
   "metadata": {},
   "source": [
    "Separando os conjuntos de treino e teste."
   ]
  },
  {
   "cell_type": "code",
   "execution_count": null,
   "metadata": {},
   "outputs": [],
   "source": [
    "# função para calcular os resultados dos algoritmos\n",
    "def calcula_metricas(y_test,preds):\n",
    "    print('MAE:', mean_absolute_error(y_test, preds))\n",
    "    print('RMSE:', np.sqrt(mean_squared_error(y_test, preds)))\n",
    "    print('R2:', r2_score(y_test, preds))"
   ]
  },
  {
   "cell_type": "code",
   "execution_count": null,
   "metadata": {},
   "outputs": [],
   "source": [
    "# Separando para conjunto de testes e de treino\n",
    "X_train, X_test, y_train, y_test = train_test_split(x,y,test_size =0.3)"
   ]
  },
  {
   "cell_type": "code",
   "execution_count": null,
   "metadata": {},
   "outputs": [],
   "source": [
    "acc=[]"
   ]
  },
  {
   "cell_type": "markdown",
   "metadata": {},
   "source": [
    "### Calculando a nossa Baseline\n",
    "\n",
    "Baseline é uma referência usada para comparar valores passados e presentes, dessa forma a empresa pode ter uma base para seus valores futuros.\n",
    "\n",
    "nas células a baixo a gente cria um modelo simulando uma baseline, utilizando a média.\n",
    "\n",
    "nosso objetivo e tornar nossos algoritmos mais eficientes que a baseline."
   ]
  },
  {
   "cell_type": "code",
   "execution_count": null,
   "metadata": {},
   "outputs": [],
   "source": [
    "model = DummyRegressor(strategy=\"mean\")"
   ]
  },
  {
   "cell_type": "markdown",
   "metadata": {},
   "source": [
    "Iniciando o treinamento."
   ]
  },
  {
   "cell_type": "code",
   "execution_count": null,
   "metadata": {},
   "outputs": [],
   "source": [
    "model.fit(X_train,y_train)"
   ]
  },
  {
   "cell_type": "markdown",
   "metadata": {},
   "source": [
    "Fazendo as predições"
   ]
  },
  {
   "cell_type": "code",
   "execution_count": null,
   "metadata": {},
   "outputs": [],
   "source": [
    "preds = model.predict(X_test)"
   ]
  },
  {
   "cell_type": "markdown",
   "metadata": {},
   "source": [
    "Calculando as métricas."
   ]
  },
  {
   "cell_type": "code",
   "execution_count": null,
   "metadata": {},
   "outputs": [],
   "source": [
    "calcula_metricas(y_test,preds)"
   ]
  },
  {
   "cell_type": "markdown",
   "metadata": {},
   "source": [
    "Armazendo o resultado."
   ]
  },
  {
   "cell_type": "code",
   "execution_count": null,
   "metadata": {},
   "outputs": [],
   "source": [
    "acc.append(\n",
    "            [\n",
    "              'BAS', r2_score(y_test,preds)\n",
    "            ]\n",
    "          )"
   ]
  },
  {
   "cell_type": "code",
   "execution_count": null,
   "metadata": {
    "scrolled": true
   },
   "outputs": [],
   "source": [
    "acc"
   ]
  },
  {
   "cell_type": "markdown",
   "metadata": {},
   "source": [
    "### Treinando um modelo de Regressão Linear\n",
    "\n",
    "Basicamente esse modelo consiste em uma equação para estimar o valor esperado de y. esse modelo considera que a relação da resposta às variáveis é uma função linear de alguns parâmetros.\n",
    "\n",
    "Esse modelo considera uma variável dependente (geralmente representada por y) e as variáveis independente.\n",
    "\n",
    "- Regressão linear simples:\n",
    "\n",
    "Considera apenas uma variável independente em relação a variavel dependente.\n",
    "\n",
    "- Regressão linear múltipla\n",
    "\n",
    "Considera duas ou mais variáveis independentes em relação a variavel dependente.\n",
    "\n",
    "- links + info\n",
    "\n",
    "https://oestatistico.com.br/regressao-linear-simples/\n",
    "\n",
    "https://pt.wikipedia.org/wiki/Regress%C3%A3o_linear"
   ]
  },
  {
   "cell_type": "markdown",
   "metadata": {},
   "source": [
    "Instanciando o estimator."
   ]
  },
  {
   "cell_type": "code",
   "execution_count": null,
   "metadata": {},
   "outputs": [],
   "source": [
    "model = LinearRegression()"
   ]
  },
  {
   "cell_type": "markdown",
   "metadata": {},
   "source": [
    "Iniciando o treinamento."
   ]
  },
  {
   "cell_type": "code",
   "execution_count": null,
   "metadata": {},
   "outputs": [],
   "source": [
    "model.fit(X_train,y_train)"
   ]
  },
  {
   "cell_type": "markdown",
   "metadata": {},
   "source": [
    "Fazendo as predições"
   ]
  },
  {
   "cell_type": "code",
   "execution_count": null,
   "metadata": {},
   "outputs": [],
   "source": [
    "preds = model.predict(X_test)"
   ]
  },
  {
   "cell_type": "markdown",
   "metadata": {},
   "source": [
    "Calculando as métricas."
   ]
  },
  {
   "cell_type": "code",
   "execution_count": null,
   "metadata": {},
   "outputs": [],
   "source": [
    "calcula_metricas(y_test,preds)"
   ]
  },
  {
   "cell_type": "markdown",
   "metadata": {},
   "source": [
    "Armazendo o resultado."
   ]
  },
  {
   "cell_type": "code",
   "execution_count": null,
   "metadata": {},
   "outputs": [],
   "source": [
    "acc.append(\n",
    "            [\n",
    "              'LIR', r2_score(y_test,preds)\n",
    "            ]\n",
    "          )"
   ]
  },
  {
   "cell_type": "code",
   "execution_count": null,
   "metadata": {},
   "outputs": [],
   "source": [
    "acc"
   ]
  },
  {
   "cell_type": "markdown",
   "metadata": {},
   "source": [
    "### Decision Tree Regression\n",
    "\n",
    "Este Modelo é baseado em uma árvore de decisão. onde existe a \"raiz\"(variável target) que gera varios \"nós\", cada nó segue caminhos diferentes de acordo com o resultado da decisão, esses caminhos são titulado de \"ramos\". \n",
    "\n",
    "Basicamente o algoritmo realiza perguntas de sim ou não, que gera um nó de acordo com a resposta, e assim gera um fluxo formando a árvore de decisão.\n",
    "\n",
    "Com isso esse algoritmo é muito util para previsões de classe, e consegue utilizar dados categóricos \n",
    "\n",
    "#### Entropia \n",
    "\n",
    "Quanto maior a entropia, maior a desordem dos dados; E quanto menor, maior será a ordem destes dados em relação a variavel target. Partindo da entropia, o algoritmo confere o ganho de informação de cada variável. Aquela que apresentar maior ganho de informação será a variável do primeiro nó da árvores.\n",
    "\n",
    "#### regressão \n",
    "\n",
    "Nos problemas de regressão nosso objetivo é prever um valor, e não uma classe. Para isso a árvore utilizará os conceitos de média e desvio padrão, que possibilitarão um resultado final numérico.\n",
    "\n",
    "- links + info\n",
    "\n",
    "https://didatica.tech/como-funciona-o-algoritmo-arvore-de-decisao/\n",
    "\n",
    "https://medium.com/turing-talks/turing-talks-17-modelos-de-predi%C3%A7%C3%A3o-decision-tree-610aa484cb05"
   ]
  },
  {
   "cell_type": "markdown",
   "metadata": {},
   "source": [
    "Iniciando o treinamento."
   ]
  },
  {
   "cell_type": "code",
   "execution_count": null,
   "metadata": {},
   "outputs": [],
   "source": [
    "model = DecisionTreeRegressor()\n",
    "model.fit(X_train,y_train)"
   ]
  },
  {
   "cell_type": "markdown",
   "metadata": {},
   "source": [
    "Fazendo as predições"
   ]
  },
  {
   "cell_type": "code",
   "execution_count": null,
   "metadata": {},
   "outputs": [],
   "source": [
    "preds = model.predict(X_test)"
   ]
  },
  {
   "cell_type": "markdown",
   "metadata": {},
   "source": [
    "Calculando as métricas."
   ]
  },
  {
   "cell_type": "code",
   "execution_count": null,
   "metadata": {},
   "outputs": [],
   "source": [
    "calcula_metricas(y_test,preds)"
   ]
  },
  {
   "cell_type": "markdown",
   "metadata": {},
   "source": [
    "Armazendo o resultado."
   ]
  },
  {
   "cell_type": "code",
   "execution_count": null,
   "metadata": {},
   "outputs": [],
   "source": [
    "acc.append(['DTR',r2_score(y_test,preds)])"
   ]
  },
  {
   "cell_type": "code",
   "execution_count": null,
   "metadata": {},
   "outputs": [],
   "source": [
    "acc"
   ]
  },
  {
   "cell_type": "markdown",
   "metadata": {},
   "source": [
    "### Random Forest\n",
    "\n",
    "Este algoritmo se comporta de maneira parecida com o anterior. algumas diferenças são a criação de muitas árvores de decisão. Basicamente ele seleciona duas ou mais variáveis aleatórias (diferente do anterior que seleciona as váriaveis em sua totalidade) e utilizando o metodo de entropia ou de índice Gini ele seleciona quais dessa variáveis aleatorias será escolhida para compor o nó da raiz, basicamente o modelo segue assim sempre excluindo as váriaveis  já selecionadas até formar a árvore de decisão.\n",
    "\n",
    "Cada árvore criada irá apresentar o seu resultado, sendo que em problemas de regressão será realizada a média dos valores previstos, e esta média informada como resultado final, e em problemas de classificação o resultado que mais vezes foi apresentado será o escolhido.\n",
    "\n",
    "- Links + info\n",
    "\n",
    "https://didatica.tech/o-que-e-e-como-funciona-o-algoritmo-randomforest/"
   ]
  },
  {
   "cell_type": "markdown",
   "metadata": {},
   "source": [
    "Iniciando o treinamento."
   ]
  },
  {
   "cell_type": "code",
   "execution_count": null,
   "metadata": {},
   "outputs": [],
   "source": [
    "model = RandomForestRegressor()\n",
    "model.fit(X_train,y_train)"
   ]
  },
  {
   "cell_type": "markdown",
   "metadata": {},
   "source": [
    "Fazendo as predições"
   ]
  },
  {
   "cell_type": "code",
   "execution_count": null,
   "metadata": {},
   "outputs": [],
   "source": [
    "preds = model.predict(X_test)"
   ]
  },
  {
   "cell_type": "markdown",
   "metadata": {},
   "source": [
    "Calculando as métricas."
   ]
  },
  {
   "cell_type": "code",
   "execution_count": null,
   "metadata": {},
   "outputs": [],
   "source": [
    "calcula_metricas(y_test,preds)"
   ]
  },
  {
   "cell_type": "markdown",
   "metadata": {},
   "source": [
    "Armazendo o resultado."
   ]
  },
  {
   "cell_type": "code",
   "execution_count": null,
   "metadata": {},
   "outputs": [],
   "source": [
    "acc.append(['RFN',r2_score(y_test,model.predict(X_test))])"
   ]
  },
  {
   "cell_type": "code",
   "execution_count": null,
   "metadata": {},
   "outputs": [],
   "source": [
    "acc"
   ]
  },
  {
   "cell_type": "markdown",
   "metadata": {},
   "source": [
    "### KNN Regressor\n",
    "\n",
    "Esse Modelo basicamente Prevê comparando o quão similar os dados de treinamento são com os dados informados para a previsão.\n",
    "\n",
    "Para realizar a previsão ele usa cálculos matemáticos (Euclidiana, Manhattan, Minkowski, Ponderada) para verificar o quão similar esse dados informados são com os dados usados no treinamento do modelo.\n",
    "\n",
    "- Links + info\n",
    "\n",
    "https://medium.com/brasil-ai/knn-k-nearest-neighbors-1-e140c82e9c4e"
   ]
  },
  {
   "cell_type": "markdown",
   "metadata": {},
   "source": [
    "Iniciando o treinamento."
   ]
  },
  {
   "cell_type": "code",
   "execution_count": null,
   "metadata": {},
   "outputs": [],
   "source": [
    "model = KNeighborsRegressor()\n",
    "model.fit(X_train,y_train)"
   ]
  },
  {
   "cell_type": "markdown",
   "metadata": {},
   "source": [
    "Fazendo as predições"
   ]
  },
  {
   "cell_type": "code",
   "execution_count": null,
   "metadata": {},
   "outputs": [],
   "source": [
    "preds = model.predict(X_test)"
   ]
  },
  {
   "cell_type": "markdown",
   "metadata": {},
   "source": [
    "Calculando as métricas."
   ]
  },
  {
   "cell_type": "code",
   "execution_count": null,
   "metadata": {
    "scrolled": true
   },
   "outputs": [],
   "source": [
    "calcula_metricas(y_test,preds)"
   ]
  },
  {
   "cell_type": "markdown",
   "metadata": {},
   "source": [
    "Armazendo o resultado."
   ]
  },
  {
   "cell_type": "code",
   "execution_count": null,
   "metadata": {},
   "outputs": [],
   "source": [
    "acc.append(['KNNR',r2_score(y_test,model.predict(X_test))])"
   ]
  },
  {
   "cell_type": "code",
   "execution_count": null,
   "metadata": {},
   "outputs": [],
   "source": [
    "acc"
   ]
  },
  {
   "cell_type": "markdown",
   "metadata": {},
   "source": [
    "Ordenando os resultados."
   ]
  },
  {
   "cell_type": "code",
   "execution_count": null,
   "metadata": {},
   "outputs": [],
   "source": [
    "acc.sort(key = lambda y:y[1],reverse =True)"
   ]
  },
  {
   "cell_type": "code",
   "execution_count": null,
   "metadata": {},
   "outputs": [],
   "source": [
    "acc"
   ]
  },
  {
   "cell_type": "markdown",
   "metadata": {},
   "source": [
    "## Pycaret\n",
    "\n",
    "Essa Biblioteca ajuda a selecionar qual melhor modelo para as previsões, dentre outras diversas funções."
   ]
  },
  {
   "cell_type": "code",
   "execution_count": null,
   "metadata": {},
   "outputs": [],
   "source": [
    "connect_dw_imoveis = sqlite3.connect(\"../data/imoveis_dw.db\")"
   ]
  },
  {
   "cell_type": "code",
   "execution_count": null,
   "metadata": {},
   "outputs": [],
   "source": [
    "data2 = pd.read_sql_query(r\"\"\"\n",
    "    SELECT * FROM IMOVEIS\n",
    "    \"\"\", \n",
    "    connect_dw_imoveis\n",
    "    )"
   ]
  },
  {
   "cell_type": "code",
   "execution_count": null,
   "metadata": {},
   "outputs": [],
   "source": [
    "data2.head()"
   ]
  },
  {
   "cell_type": "code",
   "execution_count": null,
   "metadata": {},
   "outputs": [],
   "source": [
    "s = setup( data2\n",
    "          ,target = 'valor_aluguel'\n",
    "          ,numeric_features = [ 'num_quartos'\n",
    "                               ,'num_banheiros'\n",
    "                               ,'garagem'\n",
    "                               ,'num_andares'\n",
    "                               ,'aceita_animais'\n",
    "                               ,'mobilia']\n",
    "          ,log_experiment = True\n",
    "          ,experiment_name = 'exp-bootcamp'\n",
    "         )"
   ]
  },
  {
   "cell_type": "markdown",
   "metadata": {},
   "source": [
    "### Validação cruzada k-fold\n",
    "\n",
    "para treinar o modelo e evitar problemas de overfitting, o conjunto de dados é dividido em partes, e então usa a primeira parte para testar e o resto para treinar, depois ele realiza outro treinamento agora com a segunda parte para teste e o resto (incluindo a primeira parte) para treinamento, ele continua assim de forma que todos os dados foram usados tanto para teste como para treinamento.\n",
    "\n",
    "Fold = representa em quantas partes o modelo será dividido\n",
    "\n",
    "- Links + info\n",
    "\n",
    "https://drigols.medium.com/introdu%C3%A7%C3%A3o-a-valida%C3%A7%C3%A3o-cruzada-k-fold-2a6bced32a90"
   ]
  },
  {
   "cell_type": "markdown",
   "metadata": {},
   "source": [
    "Comparando os modelos "
   ]
  },
  {
   "cell_type": "code",
   "execution_count": null,
   "metadata": {},
   "outputs": [],
   "source": [
    "best = compare_models(fold = 5)"
   ]
  },
  {
   "cell_type": "markdown",
   "metadata": {},
   "source": [
    "Listando os modelos"
   ]
  },
  {
   "cell_type": "code",
   "execution_count": null,
   "metadata": {},
   "outputs": [],
   "source": [
    "models()"
   ]
  },
  {
   "cell_type": "markdown",
   "metadata": {},
   "source": [
    "Selecionando o melhor algoritmo"
   ]
  },
  {
   "cell_type": "code",
   "execution_count": null,
   "metadata": {},
   "outputs": [],
   "source": [
    "catboost = create_model('catboost', fold = 5)"
   ]
  },
  {
   "cell_type": "markdown",
   "metadata": {},
   "source": [
    "Otimizando o modelo\n",
    "\n",
    "a célula a baixo ajusta os parâmetros do modelo, para torna-lo mais eficiente"
   ]
  },
  {
   "cell_type": "code",
   "execution_count": null,
   "metadata": {},
   "outputs": [],
   "source": [
    "tuned_et = tune_model(catboost,fold=5)"
   ]
  },
  {
   "cell_type": "markdown",
   "metadata": {},
   "source": [
    "Visualizando os residuais"
   ]
  },
  {
   "cell_type": "code",
   "execution_count": null,
   "metadata": {},
   "outputs": [],
   "source": [
    "plot_model(catboost)"
   ]
  },
  {
   "cell_type": "markdown",
   "metadata": {},
   "source": [
    "Visualizando o erro do modelo"
   ]
  },
  {
   "cell_type": "code",
   "execution_count": null,
   "metadata": {},
   "outputs": [],
   "source": [
    "plot_model(catboost, plot = 'error')"
   ]
  },
  {
   "cell_type": "markdown",
   "metadata": {},
   "source": [
    "Visualizando as features importantes"
   ]
  },
  {
   "cell_type": "code",
   "execution_count": null,
   "metadata": {},
   "outputs": [],
   "source": [
    "plot_model(catboost, plot='feature')"
   ]
  },
  {
   "cell_type": "markdown",
   "metadata": {},
   "source": [
    "Finaliza o modelo"
   ]
  },
  {
   "cell_type": "code",
   "execution_count": null,
   "metadata": {},
   "outputs": [],
   "source": [
    "final_catboost = finalize_model(catboost)"
   ]
  },
  {
   "cell_type": "markdown",
   "metadata": {},
   "source": [
    "Salva o modelo"
   ]
  },
  {
   "cell_type": "code",
   "execution_count": null,
   "metadata": {},
   "outputs": [],
   "source": [
    "save_model(final_catboost,'modelo-final')"
   ]
  },
  {
   "cell_type": "code",
   "execution_count": null,
   "metadata": {
    "scrolled": true
   },
   "outputs": [],
   "source": [
    "!ls"
   ]
  },
  {
   "cell_type": "markdown",
   "metadata": {},
   "source": [
    "### Test Time"
   ]
  },
  {
   "cell_type": "code",
   "execution_count": null,
   "metadata": {},
   "outputs": [],
   "source": [
    "model_test = load_model('modelo-final')"
   ]
  },
  {
   "cell_type": "code",
   "execution_count": null,
   "metadata": {},
   "outputs": [],
   "source": [
    "data_teste = data2.drop([\"valor_aluguel\"],axis=1)"
   ]
  },
  {
   "cell_type": "code",
   "execution_count": null,
   "metadata": {
    "scrolled": false
   },
   "outputs": [],
   "source": [
    "predict_model(model_test, data=data_teste)"
   ]
  },
  {
   "cell_type": "code",
   "execution_count": null,
   "metadata": {},
   "outputs": [],
   "source": []
  }
 ],
 "metadata": {
  "colab": {
   "name": "notebook.ipynb",
   "provenance": []
  },
  "kernelspec": {
   "display_name": "Python 3 (ipykernel)",
   "language": "python",
   "name": "python3"
  },
  "language_info": {
   "codemirror_mode": {
    "name": "ipython",
    "version": 3
   },
   "file_extension": ".py",
   "mimetype": "text/x-python",
   "name": "python",
   "nbconvert_exporter": "python",
   "pygments_lexer": "ipython3",
   "version": "3.7.0"
  },
  "widgets": {
   "application/vnd.jupyter.widget-state+json": {
    "0862787cf2b849ca9957d47f51a081a8": {
     "model_module": "@jupyter-widgets/controls",
     "model_name": "FloatProgressModel",
     "state": {
      "_dom_classes": [],
      "_model_module": "@jupyter-widgets/controls",
      "_model_module_version": "1.5.0",
      "_model_name": "FloatProgressModel",
      "_view_count": null,
      "_view_module": "@jupyter-widgets/controls",
      "_view_module_version": "1.5.0",
      "_view_name": "ProgressView",
      "bar_style": "success",
      "description": "",
      "description_tooltip": null,
      "layout": "IPY_MODEL_22ee2bb768d44dedb0e6ef9aec9f106b",
      "max": 1,
      "min": 0,
      "orientation": "horizontal",
      "style": "IPY_MODEL_f6863ef18248425f9bb2a52a36277d3a",
      "value": 1
     }
    },
    "15944e904034483397383211be1fe08d": {
     "model_module": "@jupyter-widgets/controls",
     "model_name": "HTMLModel",
     "state": {
      "_dom_classes": [],
      "_model_module": "@jupyter-widgets/controls",
      "_model_module_version": "1.5.0",
      "_model_name": "HTMLModel",
      "_view_count": null,
      "_view_module": "@jupyter-widgets/controls",
      "_view_module_version": "1.5.0",
      "_view_name": "HTMLView",
      "description": "",
      "description_tooltip": null,
      "layout": "IPY_MODEL_8b76469f6f2848fead97ff45135c3bec",
      "placeholder": "​",
      "style": "IPY_MODEL_a64d65aed70044eebc2904417228419f",
      "value": "Done! Use &#x27;show&#x27; commands to display/save.   "
     }
    },
    "22ee2bb768d44dedb0e6ef9aec9f106b": {
     "model_module": "@jupyter-widgets/base",
     "model_name": "LayoutModel",
     "state": {
      "_model_module": "@jupyter-widgets/base",
      "_model_module_version": "1.2.0",
      "_model_name": "LayoutModel",
      "_view_count": null,
      "_view_module": "@jupyter-widgets/base",
      "_view_module_version": "1.2.0",
      "_view_name": "LayoutView",
      "align_content": null,
      "align_items": null,
      "align_self": null,
      "border": null,
      "bottom": null,
      "display": null,
      "flex": "2",
      "flex_flow": null,
      "grid_area": null,
      "grid_auto_columns": null,
      "grid_auto_flow": null,
      "grid_auto_rows": null,
      "grid_column": null,
      "grid_gap": null,
      "grid_row": null,
      "grid_template_areas": null,
      "grid_template_columns": null,
      "grid_template_rows": null,
      "height": null,
      "justify_content": null,
      "justify_items": null,
      "left": null,
      "margin": null,
      "max_height": null,
      "max_width": null,
      "min_height": null,
      "min_width": null,
      "object_fit": null,
      "object_position": null,
      "order": null,
      "overflow": null,
      "overflow_x": null,
      "overflow_y": null,
      "padding": null,
      "right": null,
      "top": null,
      "visibility": null,
      "width": null
     }
    },
    "5c550d9afe9d4d5f9585b625e48d9998": {
     "model_module": "@jupyter-widgets/controls",
     "model_name": "HBoxModel",
     "state": {
      "_dom_classes": [],
      "_model_module": "@jupyter-widgets/controls",
      "_model_module_version": "1.5.0",
      "_model_name": "HBoxModel",
      "_view_count": null,
      "_view_module": "@jupyter-widgets/controls",
      "_view_module_version": "1.5.0",
      "_view_name": "HBoxView",
      "box_style": "",
      "children": [
       "IPY_MODEL_15944e904034483397383211be1fe08d",
       "IPY_MODEL_0862787cf2b849ca9957d47f51a081a8",
       "IPY_MODEL_82083441a2a54b95ad25334769d7cfae"
      ],
      "layout": "IPY_MODEL_7f5c6079e76345f9913f202d1a2a354b"
     }
    },
    "7f5c6079e76345f9913f202d1a2a354b": {
     "model_module": "@jupyter-widgets/base",
     "model_name": "LayoutModel",
     "state": {
      "_model_module": "@jupyter-widgets/base",
      "_model_module_version": "1.2.0",
      "_model_name": "LayoutModel",
      "_view_count": null,
      "_view_module": "@jupyter-widgets/base",
      "_view_module_version": "1.2.0",
      "_view_name": "LayoutView",
      "align_content": null,
      "align_items": null,
      "align_self": null,
      "border": null,
      "bottom": null,
      "display": "inline-flex",
      "flex": null,
      "flex_flow": "row wrap",
      "grid_area": null,
      "grid_auto_columns": null,
      "grid_auto_flow": null,
      "grid_auto_rows": null,
      "grid_column": null,
      "grid_gap": null,
      "grid_row": null,
      "grid_template_areas": null,
      "grid_template_columns": null,
      "grid_template_rows": null,
      "height": null,
      "justify_content": null,
      "justify_items": null,
      "left": null,
      "margin": null,
      "max_height": null,
      "max_width": null,
      "min_height": null,
      "min_width": null,
      "object_fit": null,
      "object_position": null,
      "order": null,
      "overflow": null,
      "overflow_x": null,
      "overflow_y": null,
      "padding": null,
      "right": null,
      "top": null,
      "visibility": null,
      "width": "100%"
     }
    },
    "82083441a2a54b95ad25334769d7cfae": {
     "model_module": "@jupyter-widgets/controls",
     "model_name": "HTMLModel",
     "state": {
      "_dom_classes": [],
      "_model_module": "@jupyter-widgets/controls",
      "_model_module_version": "1.5.0",
      "_model_name": "HTMLModel",
      "_view_count": null,
      "_view_module": "@jupyter-widgets/controls",
      "_view_module_version": "1.5.0",
      "_view_name": "HTMLView",
      "description": "",
      "description_tooltip": null,
      "layout": "IPY_MODEL_b6fcfa9e17974e6996a75faab2c31a43",
      "placeholder": "​",
      "style": "IPY_MODEL_d067259dbbc94e7ba1daaca8f3215a4c",
      "value": " [100%]   00:00 -&gt; (00:00 left)"
     }
    },
    "8b76469f6f2848fead97ff45135c3bec": {
     "model_module": "@jupyter-widgets/base",
     "model_name": "LayoutModel",
     "state": {
      "_model_module": "@jupyter-widgets/base",
      "_model_module_version": "1.2.0",
      "_model_name": "LayoutModel",
      "_view_count": null,
      "_view_module": "@jupyter-widgets/base",
      "_view_module_version": "1.2.0",
      "_view_name": "LayoutView",
      "align_content": null,
      "align_items": null,
      "align_self": null,
      "border": null,
      "bottom": null,
      "display": null,
      "flex": null,
      "flex_flow": null,
      "grid_area": null,
      "grid_auto_columns": null,
      "grid_auto_flow": null,
      "grid_auto_rows": null,
      "grid_column": null,
      "grid_gap": null,
      "grid_row": null,
      "grid_template_areas": null,
      "grid_template_columns": null,
      "grid_template_rows": null,
      "height": null,
      "justify_content": null,
      "justify_items": null,
      "left": null,
      "margin": null,
      "max_height": null,
      "max_width": null,
      "min_height": null,
      "min_width": null,
      "object_fit": null,
      "object_position": null,
      "order": null,
      "overflow": null,
      "overflow_x": null,
      "overflow_y": null,
      "padding": null,
      "right": null,
      "top": null,
      "visibility": null,
      "width": null
     }
    },
    "a64d65aed70044eebc2904417228419f": {
     "model_module": "@jupyter-widgets/controls",
     "model_name": "DescriptionStyleModel",
     "state": {
      "_model_module": "@jupyter-widgets/controls",
      "_model_module_version": "1.5.0",
      "_model_name": "DescriptionStyleModel",
      "_view_count": null,
      "_view_module": "@jupyter-widgets/base",
      "_view_module_version": "1.2.0",
      "_view_name": "StyleView",
      "description_width": ""
     }
    },
    "b6fcfa9e17974e6996a75faab2c31a43": {
     "model_module": "@jupyter-widgets/base",
     "model_name": "LayoutModel",
     "state": {
      "_model_module": "@jupyter-widgets/base",
      "_model_module_version": "1.2.0",
      "_model_name": "LayoutModel",
      "_view_count": null,
      "_view_module": "@jupyter-widgets/base",
      "_view_module_version": "1.2.0",
      "_view_name": "LayoutView",
      "align_content": null,
      "align_items": null,
      "align_self": null,
      "border": null,
      "bottom": null,
      "display": null,
      "flex": null,
      "flex_flow": null,
      "grid_area": null,
      "grid_auto_columns": null,
      "grid_auto_flow": null,
      "grid_auto_rows": null,
      "grid_column": null,
      "grid_gap": null,
      "grid_row": null,
      "grid_template_areas": null,
      "grid_template_columns": null,
      "grid_template_rows": null,
      "height": null,
      "justify_content": null,
      "justify_items": null,
      "left": null,
      "margin": null,
      "max_height": null,
      "max_width": null,
      "min_height": null,
      "min_width": null,
      "object_fit": null,
      "object_position": null,
      "order": null,
      "overflow": null,
      "overflow_x": null,
      "overflow_y": null,
      "padding": null,
      "right": null,
      "top": null,
      "visibility": null,
      "width": null
     }
    },
    "d067259dbbc94e7ba1daaca8f3215a4c": {
     "model_module": "@jupyter-widgets/controls",
     "model_name": "DescriptionStyleModel",
     "state": {
      "_model_module": "@jupyter-widgets/controls",
      "_model_module_version": "1.5.0",
      "_model_name": "DescriptionStyleModel",
      "_view_count": null,
      "_view_module": "@jupyter-widgets/base",
      "_view_module_version": "1.2.0",
      "_view_name": "StyleView",
      "description_width": ""
     }
    },
    "f6863ef18248425f9bb2a52a36277d3a": {
     "model_module": "@jupyter-widgets/controls",
     "model_name": "ProgressStyleModel",
     "state": {
      "_model_module": "@jupyter-widgets/controls",
      "_model_module_version": "1.5.0",
      "_model_name": "ProgressStyleModel",
      "_view_count": null,
      "_view_module": "@jupyter-widgets/base",
      "_view_module_version": "1.2.0",
      "_view_name": "StyleView",
      "bar_color": null,
      "description_width": ""
     }
    }
   }
  }
 },
 "nbformat": 4,
 "nbformat_minor": 1
}
